{
  "nbformat": 4,
  "nbformat_minor": 0,
  "metadata": {
    "colab": {
      "name": "Final Exam.ipynb",
      "provenance": [],
      "authorship_tag": "ABX9TyMxqum20MpbHC4wSfAqm64f",
      "include_colab_link": true
    },
    "kernelspec": {
      "name": "python3",
      "display_name": "Python 3"
    },
    "language_info": {
      "name": "python"
    }
  },
  "cells": [
    {
      "cell_type": "markdown",
      "metadata": {
        "id": "view-in-github",
        "colab_type": "text"
      },
      "source": [
        "<a href=\"https://colab.research.google.com/github/espinili/Numerical-Methods-58012/blob/main/Final_Exam.ipynb\" target=\"_parent\"><img src=\"https://colab.research.google.com/assets/colab-badge.svg\" alt=\"Open In Colab\"/></a>"
      ]
    },
    {
      "cell_type": "code",
      "execution_count": 1,
      "metadata": {
        "colab": {
          "base_uri": "https://localhost:8080/"
        },
        "id": "FQD2449Y1UcF",
        "outputId": "37db89ac-a6ce-4fa6-f17f-8cd435aef610"
      },
      "outputs": [
        {
          "output_type": "stream",
          "name": "stdout",
          "text": [
            "Integral = 2.1731\n"
          ]
        }
      ],
      "source": [
        "import math\n",
        "def f(x):\n",
        "  return(math.exp(x)) \n",
        "a = -1\n",
        "b = 1\n",
        "n = 10\n",
        "h = (b-a)/n  \n",
        "S = h * (f(a)+f(b))    \n",
        "for i in range(1,n):\n",
        "    S += f(a+i*h)\n",
        "Integral = S*h\n",
        "print('Integral = %0.4f' %Integral)"
      ]
    },
    {
      "cell_type": "code",
      "source": [
        "from math import e\n",
        "def f(x): return e**x\n",
        "a = -1\n",
        "b = 1\n",
        "n = 11\n",
        "h = (b-a)/n\n",
        "S = h*(f(a)+f(b))\n",
        "for i in range(1,n):\n",
        "    S+= (a+i*h)\n",
        "Integral=h*S\n",
        "print('Integral = %.1f' %Integral)"
      ],
      "metadata": {
        "id": "q1f0b3XR6FTq",
        "outputId": "e8e68d79-b018-43b1-9336-10e2a86307d5",
        "colab": {
          "base_uri": "https://localhost:8080/"
        }
      },
      "execution_count": 2,
      "outputs": [
        {
          "output_type": "stream",
          "name": "stdout",
          "text": [
            "Integral = 0.1\n"
          ]
        }
      ]
    }
  ]
}